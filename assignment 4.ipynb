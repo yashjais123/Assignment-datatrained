{
 "cells": [
  {
   "cell_type": "code",
   "execution_count": 1,
   "id": "169eb2ac",
   "metadata": {},
   "outputs": [],
   "source": [
    "#assignment4\n",
    "#name=yash jaiswal"
   ]
  },
  {
   "cell_type": "code",
   "execution_count": 9,
   "id": "e98bf656",
   "metadata": {},
   "outputs": [],
   "source": [
    "#Loops /if\n",
    "\n",
    "\n",
    "#Loops /if\n",
    "\n",
    "#x=0\n",
    "\n",
    "#define a while loop\n",
    "\n",
    "#while(x <4):\n",
    "\n",
    "#print(x)\n",
    "\n",
    "# x = x+1\n",
    "\n",
    "#Task:\n",
    "\n",
    "#Print First 10 natural numbers using while loop\n",
    "\n",
    "# program 1: Print first 10 natural numbers\n",
    "\n",
    "#i = 1\n",
    "\n",
    "#while i <= 10:\n",
    "\n",
    "    #rint(i)\n",
    "\n",
    "    #=i+1"
   ]
  },
  {
   "cell_type": "code",
   "execution_count": 8,
   "id": "1f29c713",
   "metadata": {},
   "outputs": [
    {
     "name": "stdout",
     "output_type": "stream",
     "text": [
      "0\n",
      "1\n",
      "2\n",
      "3\n",
      "4\n",
      "5\n",
      "6\n",
      "7\n",
      "8\n",
      "9\n",
      "10\n"
     ]
    }
   ],
   "source": [
    "x=0\n",
    "while x <=10:\n",
    "    print(x)\n",
    "    x=x+1"
   ]
  },
  {
   "cell_type": "code",
   "execution_count": 10,
   "id": "24ec75a6",
   "metadata": {},
   "outputs": [
    {
     "name": "stdout",
     "output_type": "stream",
     "text": [
      "2\n",
      "3\n",
      "4\n",
      "5\n",
      "6\n"
     ]
    }
   ],
   "source": [
    "for x in range(2,7):\n",
    "\n",
    "  print(x)"
   ]
  },
  {
   "cell_type": "code",
   "execution_count": 11,
   "id": "3decce60",
   "metadata": {},
   "outputs": [
    {
     "name": "stdout",
     "output_type": "stream",
     "text": [
      "Jan\n",
      "Feb\n",
      "Mar\n",
      "April\n",
      "May\n",
      "June\n"
     ]
    }
   ],
   "source": [
    "Months = [\"Jan\",\"Feb\",\"Mar\",\"April\",\"May\",\"June\"]\n",
    "\n",
    "for m in Months:\n",
    "\n",
    "  print(m)"
   ]
  },
  {
   "cell_type": "code",
   "execution_count": 13,
   "id": "a7b2f0a2",
   "metadata": {},
   "outputs": [],
   "source": [
    " # Measure some strings:\n",
    "\n",
    " #words = ['cat', 'window', 'defenestrate']\n",
    "\n",
    "#for w in words:\n",
    "\n",
    " #print(w)\n",
    "\n",
    "#for w in words:\n",
    "\n",
    "# print(w, len(w))\n",
    "\n"
   ]
  },
  {
   "cell_type": "code",
   "execution_count": 17,
   "id": "572c199f",
   "metadata": {},
   "outputs": [
    {
     "name": "stdout",
     "output_type": "stream",
     "text": [
      "cat\n",
      "window\n",
      "defenestrate\n"
     ]
    }
   ],
   "source": [
    " words = ['cat', 'window', 'defenestrate']\n",
    "\n",
    "for w in words:\n",
    "\n",
    "    print(w)"
   ]
  },
  {
   "cell_type": "code",
   "execution_count": 18,
   "id": "333f2502",
   "metadata": {},
   "outputs": [
    {
     "name": "stdout",
     "output_type": "stream",
     "text": [
      "cat 3\n",
      "window 6\n",
      "defenestrate 12\n"
     ]
    }
   ],
   "source": [
    "for w in words:\n",
    "\n",
    "    print(w, len(w))\n"
   ]
  },
  {
   "cell_type": "code",
   "execution_count": 19,
   "id": "60eb551d",
   "metadata": {},
   "outputs": [
    {
     "data": {
      "text/plain": [
       "range(5, 10)"
      ]
     },
     "execution_count": 19,
     "metadata": {},
     "output_type": "execute_result"
    }
   ],
   "source": [
    "range(5, 10)"
   ]
  },
  {
   "cell_type": "code",
   "execution_count": 20,
   "id": "216cdfd1",
   "metadata": {},
   "outputs": [
    {
     "data": {
      "text/plain": [
       "range(0, 10, 3)"
      ]
     },
     "execution_count": 20,
     "metadata": {},
     "output_type": "execute_result"
    }
   ],
   "source": [
    "range(0, 10, 3)"
   ]
  },
  {
   "cell_type": "code",
   "execution_count": 22,
   "id": "55be6198",
   "metadata": {},
   "outputs": [
    {
     "data": {
      "text/plain": [
       "[0, 1, 2, 3, 4, 5, 6, 7, 8]"
      ]
     },
     "execution_count": 22,
     "metadata": {},
     "output_type": "execute_result"
    }
   ],
   "source": [
    "list(range(9))"
   ]
  },
  {
   "cell_type": "code",
   "execution_count": 25,
   "id": "dc0bbf83",
   "metadata": {},
   "outputs": [
    {
     "name": "stdout",
     "output_type": "stream",
     "text": [
      "0\n",
      "1\n",
      "2\n",
      "3\n",
      "4\n"
     ]
    }
   ],
   "source": [
    "a = ['Mary', 'had', 'a', 'little', 'lamb']\n",
    "\n",
    "for i in range(len(a)):\n",
    "\n",
    " print(i)"
   ]
  },
  {
   "cell_type": "code",
   "execution_count": 30,
   "id": "dacbbcd0",
   "metadata": {},
   "outputs": [
    {
     "name": "stdout",
     "output_type": "stream",
     "text": [
      "x is greater than y\n"
     ]
    }
   ],
   "source": [
    "x=8\n",
    "\n",
    "y=4\n",
    "\n",
    "if(x < y):\n",
    "\n",
    "    st= \"x is less than y\"\n",
    "\n",
    "else:\n",
    "\n",
    "    st= \"x is greater than y\"\n",
    "\n",
    "    print (st)\n"
   ]
  },
  {
   "cell_type": "code",
   "execution_count": 32,
   "id": "f2d6e172",
   "metadata": {},
   "outputs": [
    {
     "name": "stdout",
     "output_type": "stream",
     "text": [
      "Enter an integer  42\n",
      "More than one and zero \n"
     ]
    }
   ],
   "source": [
    "x=int(input(\"Enter an integer  \"))\n",
    "if x<=0:\n",
    "    print(\"Negative changer to zero \")\n",
    "elif x==0:\n",
    "    print(\"z in equal to 0 \")\n",
    "elif x==1:\n",
    "    print(\" x is eqaul to q \")\n",
    "else:\n",
    "    print(\"More than one and zero \")\n",
    "    "
   ]
  },
  {
   "cell_type": "code",
   "execution_count": 33,
   "id": "769e3fa4",
   "metadata": {},
   "outputs": [],
   "source": [
    "#Task :write a program using if-elif with different country value and total values.\n",
    "#total = 100\n",
    "#country = \"US\"\n",
    "#country = \"AU\"\n",
    "#if country == \"US\":\n",
    "#if total <= 50:\n",
    "#print(\"Shipping Cost is $50\")\n",
    "#elif total <= 100:\n",
    "#print(\"Shipping Cost is $25\")\n",
    "#elif total <= 150:\n",
    "#print(\"Shipping Costs $5\")\n",
    "#else:\n",
    "#print(\"FREE\")\n",
    "#if country == \"AU\":\n",
    "#if total <= 50:\n",
    "#print(\"Shipping Cost is $100\")\n",
    "#else:\n",
    "#print(\"FREE\")"
   ]
  },
  {
   "cell_type": "code",
   "execution_count": 34,
   "id": "34843828",
   "metadata": {},
   "outputs": [
    {
     "name": "stdout",
     "output_type": "stream",
     "text": [
      "Shipping Cost is $25\n"
     ]
    }
   ],
   "source": [
    "total = 100\n",
    "country = \"AU\"\n",
    "\n",
    "if country == \"US\":\n",
    "\n",
    "    if total <= 50:\n",
    "\n",
    "        print(\"Shipping Cost is $50\")\n",
    "\n",
    "elif total <= 100:\n",
    "\n",
    "        print(\"Shipping Cost is $25\")\n",
    "\n",
    "elif total <= 150:\n",
    "\n",
    "     print(\"Shipping Costs $5\")\n",
    "\n",
    "else:\n",
    "\n",
    "        print(\"FREE\")\n",
    "\n",
    "if country == \"AU\":\n",
    "\n",
    "   if total <= 50:\n",
    "\n",
    "     print(\"Shipping Cost is $100\")\n",
    "\n",
    "else:\n",
    "\n",
    "     print(\"FREE\")"
   ]
  },
  {
   "cell_type": "code",
   "execution_count": 35,
   "id": "9c0c46b9",
   "metadata": {},
   "outputs": [],
   "source": [
    "#Task : write a program to find even or odd using for loop /range function.\n",
    "\n",
    "#Soln.\n",
    "\n",
    "#for num in range(2, 10):\n",
    "\n",
    "#... if num % 2 == 0:\n",
    "\n",
    "#... print(\"Found an even number\", num)\n",
    "\n",
    "#... continue\n",
    "\n",
    "#... print(\"Found a number\", num)"
   ]
  },
  {
   "cell_type": "code",
   "execution_count": 41,
   "id": "d7e97df7",
   "metadata": {},
   "outputs": [
    {
     "name": "stdout",
     "output_type": "stream",
     "text": [
      "Its a even number 2\n",
      "Its a even number 4\n",
      "Its a even number 6\n",
      "Its a even number 8\n"
     ]
    }
   ],
   "source": [
    "for num in range(2,10):\n",
    "    if num%2==0:\n",
    "        print(\"Its a even number\",num)\n",
    "    else:\n",
    "        continue\n",
    "        print(\"Found a number\",num)"
   ]
  },
  {
   "cell_type": "code",
   "execution_count": 43,
   "id": "62448262",
   "metadata": {},
   "outputs": [],
   "source": [
    "#Task :write two different loops for break if x is even number and continue when the number is divide by 5.\n",
    "#Soln.\n",
    "# use the break and continue statements\n",
    "#for x in range (10,20):\n",
    "\n",
    "   #if (x == 15): break\n",
    "\n",
    "   #if (x % 2 == 0) : continueTask :write two different loops for break if x is even number and continue when the number is divide by 5\n",
    "\n",
    "   #print(x)\n",
    "\n",
    "# use the break and continue statements\n",
    "\n",
    "#for x in range (10,20):\n",
    "\n",
    "   #if (x == 15): break\n",
    "\n",
    "   #if (x % 5 == 0) : continue\n",
    "\n",
    "   #print(x)\n",
    "\n"
   ]
  },
  {
   "cell_type": "code",
   "execution_count": 44,
   "id": "0f7e1a99",
   "metadata": {},
   "outputs": [
    {
     "name": "stdout",
     "output_type": "stream",
     "text": [
      "10\n",
      "11\n",
      "12\n",
      "13\n",
      "14\n",
      "11\n",
      "12\n",
      "13\n",
      "14\n",
      "16\n",
      "17\n",
      "18\n",
      "19\n"
     ]
    }
   ],
   "source": [
    "# use the break and continue statements\n",
    "\n",
    "for x in range (10,20):\n",
    "\n",
    "   if (x == 15): break\n",
    "\n",
    "   #if (x % 2 == 0) : continue\n",
    "\n",
    "   print(x)\n",
    "\n",
    "# use the break and continue statements\n",
    "\n",
    "for x in range (10,20):\n",
    "\n",
    "   #if (x == 15): break\n",
    "\n",
    "   if (x % 5 == 0) : continue\n",
    "\n",
    "   print(x)\n",
    "\n"
   ]
  },
  {
   "cell_type": "code",
   "execution_count": 45,
   "id": "8b9dd5d0",
   "metadata": {},
   "outputs": [],
   "source": [
    "#Task:\n",
    "#Display numbers divisible by 5 from a list.Iterate the given list of numbers and print only those numbers which are divisible by 5.\n",
    "#Solution:\n",
    "#num_list = [10, 20, 33, 46, 55]\n",
    "#print(\"Given list:\", num_list)\n",
    "#print('Divisible by 5:')\n",
    "#for num in num_list:\n",
    "#if num % 5 == 0:\n",
    "# print(num)"
   ]
  },
  {
   "cell_type": "code",
   "execution_count": 46,
   "id": "35683b8e",
   "metadata": {},
   "outputs": [
    {
     "name": "stdout",
     "output_type": "stream",
     "text": [
      "Given list: [10, 20, 33, 46, 55]\n",
      "Divisible by 5:\n",
      "10\n",
      "20\n",
      "55\n"
     ]
    }
   ],
   "source": [
    "num_list = [10, 20, 33, 46, 55]\n",
    "\n",
    "print(\"Given list:\", num_list)\n",
    "\n",
    "print('Divisible by 5:')\n",
    "\n",
    "for num in num_list:\n",
    "\n",
    "    if num % 5 == 0:\n",
    "\n",
    "        print(num)"
   ]
  },
  {
   "cell_type": "code",
   "execution_count": 47,
   "id": "1c1f9ef9",
   "metadata": {},
   "outputs": [],
   "source": [
    "#Task:\n",
    "#Calculate the sum of all numbers from 1 to a given number\n",
    "#Solution:\n",
    "# s: store sum of all numbers\n",
    "#s = 0\n",
    "#n = int(input(\"Enter number \"))\n",
    "# run loop n times\n",
    "# stop: n+1 (because range never include stop number in result)\n",
    "#for i in range(1, n + 1, 1):\n",
    "   # add current number to sum variable\n",
    "#s =s+i\n",
    "#print(\"\\n\")\n",
    "#print(\"Sum is: \", s)\n",
    "\n"
   ]
  },
  {
   "cell_type": "code",
   "execution_count": 49,
   "id": "d0c8b9c6",
   "metadata": {},
   "outputs": [
    {
     "name": "stdout",
     "output_type": "stream",
     "text": [
      "Enter number 5\n",
      "\n",
      "\n",
      "Sum is:  15\n"
     ]
    }
   ],
   "source": [
    "s = 0\n",
    "\n",
    "n = int(input(\"Enter number \"))\n",
    "\n",
    "# run loop n times\n",
    "\n",
    "# stop: n+1 (because range never include stop number in result)\n",
    "\n",
    "for i in range(1, n + 1, 1):\n",
    "\n",
    "    # add current number to sum variable\n",
    "\n",
    "    s =s+i\n",
    "\n",
    "print(\"\\n\")\n",
    "\n",
    "print(\"Sum is: \", s)\n",
    "\n"
   ]
  },
  {
   "cell_type": "code",
   "execution_count": 50,
   "id": "e95afafb",
   "metadata": {},
   "outputs": [],
   "source": [
    "#Task:\n",
    "#Write a program to print multiplication table of a given number\n",
    "#Solution:\n",
    "#n = 2\n",
    "# stop: 11 (because range never include stop number in result)\n",
    "# run loop 10 times\n",
    "#for i in range(1, 11, 1):\n",
    " # 2 *i (current number)\n",
    "#product = n * i\n",
    "#print(product)"
   ]
  },
  {
   "cell_type": "code",
   "execution_count": 51,
   "id": "ce531a4a",
   "metadata": {},
   "outputs": [
    {
     "name": "stdout",
     "output_type": "stream",
     "text": [
      "2\n",
      "4\n",
      "6\n",
      "8\n",
      "10\n",
      "12\n",
      "14\n",
      "16\n",
      "18\n",
      "20\n"
     ]
    }
   ],
   "source": [
    "n = 2\n",
    "\n",
    "# stop: 11 (because range never include stop number in result)\n",
    "\n",
    "# run loop 10 times\n",
    "\n",
    "for i in range(1, 11, 1):\n",
    "\n",
    "    # 2 *i (current number)\n",
    "\n",
    "    product = n * i\n",
    "\n",
    "    print(product)"
   ]
  },
  {
   "cell_type": "code",
   "execution_count": 54,
   "id": "bb05a0fe",
   "metadata": {},
   "outputs": [
    {
     "name": "stdout",
     "output_type": "stream",
     "text": [
      "3\n",
      "6\n",
      "9\n",
      "12\n",
      "15\n",
      "18\n",
      "21\n",
      "24\n",
      "27\n",
      "30\n"
     ]
    }
   ],
   "source": [
    "n = 3\n",
    "\n",
    "\n",
    "\n",
    "for i in range(1, 11, 1):\n",
    "\n",
    "    # 2 *i (current number)\n",
    "\n",
    "    product = n * i\n",
    "\n",
    "    print(product)"
   ]
  },
  {
   "cell_type": "code",
   "execution_count": 55,
   "id": "e05eac7e",
   "metadata": {},
   "outputs": [],
   "source": [
    "#Practice below codes for list comprehension\n",
    "#vec = [-4, -2, 0, 2, 4]\n",
    "# create a new list with the values doubled\n",
    "#[x*2 for x in vec]\n",
    "# filter the list to exclude negative numbers\n",
    "#[x for x in vec if x >= 0]"
   ]
  },
  {
   "cell_type": "code",
   "execution_count": 57,
   "id": "1190cfa5",
   "metadata": {},
   "outputs": [
    {
     "data": {
      "text/plain": [
       "[0, 2, 4]"
      ]
     },
     "execution_count": 57,
     "metadata": {},
     "output_type": "execute_result"
    }
   ],
   "source": [
    "vec = [-4, -2, 0, 2, 4]\n",
    "\n",
    " # create a new list with the values doubled\n",
    "[x*2 for x in vec]\n",
    "\n",
    "# filter the list to exclude negative numbers\n",
    "\n",
    "[x for x in vec if x >= 0]"
   ]
  },
  {
   "cell_type": "code",
   "execution_count": 58,
   "id": "53ac0a6a",
   "metadata": {},
   "outputs": [
    {
     "data": {
      "text/plain": [
       "[4, 2, 0, 2, 4]"
      ]
     },
     "execution_count": 58,
     "metadata": {},
     "output_type": "execute_result"
    }
   ],
   "source": [
    "# apply a function to all the elements\n",
    "\n",
    "[abs(x) for x in vec]"
   ]
  },
  {
   "cell_type": "code",
   "execution_count": 59,
   "id": "f0e661a3",
   "metadata": {},
   "outputs": [
    {
     "data": {
      "text/plain": [
       "['banana', 'loganberry', 'passion fruit']"
      ]
     },
     "execution_count": 59,
     "metadata": {},
     "output_type": "execute_result"
    }
   ],
   "source": [
    " # call a method on each element\n",
    "\n",
    "freshfruit = [' banana', ' loganberry ', 'passion fruit ']\n",
    "\n",
    "[weapon.strip() for weapon in freshfruit]\n",
    "\n"
   ]
  },
  {
   "cell_type": "code",
   "execution_count": 61,
   "id": "f9692315",
   "metadata": {},
   "outputs": [
    {
     "data": {
      "text/plain": [
       "[(0, 0), (1, 1), (2, 4), (3, 9), (4, 16), (5, 25)]"
      ]
     },
     "execution_count": 61,
     "metadata": {},
     "output_type": "execute_result"
    }
   ],
   "source": [
    "# create a list of 2-tuples like (number, square)\n",
    "\n",
    "[(x, x**2) for x in range(6)]"
   ]
  },
  {
   "cell_type": "code",
   "execution_count": 64,
   "id": "cb78a3c0",
   "metadata": {},
   "outputs": [
    {
     "name": "stdout",
     "output_type": "stream",
     "text": [
      "apple\n",
      "banana\n",
      "orange\n",
      "pear\n"
     ]
    }
   ],
   "source": [
    "#To loop over a sequence in sorted order, use the sorted() function which returns a new sorted list while\n",
    "\n",
    "basket = ['apple', 'orange', 'apple', 'pear', 'orange', 'banana']\n",
    "\n",
    "for f in sorted(set(basket)):\n",
    "\n",
    "    print(f)"
   ]
  },
  {
   "cell_type": "code",
   "execution_count": 68,
   "id": "5b0bcf6b",
   "metadata": {},
   "outputs": [
    {
     "name": "stdout",
     "output_type": "stream",
     "text": [
      "9\n",
      "7\n",
      "5\n",
      "3\n",
      "1\n"
     ]
    }
   ],
   "source": [
    "for i in reversed(range(1,10,2)):\n",
    "    print(i)"
   ]
  },
  {
   "cell_type": "code",
   "execution_count": null,
   "id": "33df09ca",
   "metadata": {},
   "outputs": [],
   "source": [
    "for i in reversed(range(1,20,2))"
   ]
  }
 ],
 "metadata": {
  "kernelspec": {
   "display_name": "Python 3 (ipykernel)",
   "language": "python",
   "name": "python3"
  },
  "language_info": {
   "codemirror_mode": {
    "name": "ipython",
    "version": 3
   },
   "file_extension": ".py",
   "mimetype": "text/x-python",
   "name": "python",
   "nbconvert_exporter": "python",
   "pygments_lexer": "ipython3",
   "version": "3.9.12"
  }
 },
 "nbformat": 4,
 "nbformat_minor": 5
}
