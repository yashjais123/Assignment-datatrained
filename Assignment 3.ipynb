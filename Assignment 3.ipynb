{
 "cells": [
  {
   "cell_type": "code",
   "execution_count": 1,
   "id": "ca7888ff",
   "metadata": {},
   "outputs": [],
   "source": [
    "#Assignment 3\n",
    "#Student of Datatrained -yash jaiswal"
   ]
  },
  {
   "cell_type": "code",
   "execution_count": 4,
   "id": "25bfe594",
   "metadata": {},
   "outputs": [
    {
     "ename": "SyntaxError",
     "evalue": "invalid syntax (521836826.py, line 2)",
     "output_type": "error",
     "traceback": [
      "\u001b[1;36m  Input \u001b[1;32mIn [4]\u001b[1;36m\u001b[0m\n\u001b[1;33m    String functions\u001b[0m\n\u001b[1;37m           ^\u001b[0m\n\u001b[1;31mSyntaxError\u001b[0m\u001b[1;31m:\u001b[0m invalid syntax\n"
     ]
    }
   ],
   "source": [
    "#String finctions in python\n",
    "String functions\n",
    "\n",
    "name = \"Tesla\"\n",
    "\n",
    "name.lower()\n",
    "\n",
    "name.upper()\n",
    "\n",
    "len(name)\n",
    "\n",
    "name.capitalize()\n",
    "\n",
    "name.isalpha()\n",
    "\n",
    "starship = \"Enterprise\"\n",
    "\n",
    "starship.startswith(\"en\")\n",
    "\n",
    "starship.endswith(\"rise\")\n",
    "\n",
    "# replace\n",
    "\n",
    "#str.replace(old, new)\n",
    "\n",
    "string = \"Welcome Sir \"\n",
    "\n",
    "# original string\n",
    "\n",
    "print(string)\n",
    "\n",
    "# with two Parameters\n",
    "\n",
    "print(string.replace(\"Welcome\",\"GoodBye\"))\n",
    "\n",
    "txt = \"I like bananas\"\n",
    "\n",
    "x = txt.replace(\"bananas\", \"apples\")\n",
    "\n",
    "print(x)\n",
    "\n",
    "phrase = \"the surprise is in here somewhere\"\n",
    "\n",
    "phrase.find(\"surprise\")\n",
    "\n",
    "text = \"Hello World DataTrained\"\n",
    "\n",
    "# splits at space\n",
    "\n",
    "print(text.split())\n",
    "\n",
    "text = \"Hello,World, DataTrained\"\n",
    "\n",
    "# splits at ','\n",
    "\n",
    "print(text.split(\", \"))\n",
    "\n",
    "text = \"Hello,World:, DataTrained\"\n",
    "\n",
    "# Splits at ':'\n",
    "\n",
    "print(text.split(\":\"))\n",
    "\n",
    "\n",
    "\n",
    "\n",
    "\n",
    "Task:\n",
    "\n",
    "1\n",
    "\n",
    "Write a program that converts the following strings to lowercase:\n",
    "\n",
    "\"Animals\", \"Badger\", \"Honey Bee\", \"Honey Badger\". Print each lowercase string on a separate line.\n",
    "\n",
    "\n"
   ]
  },
  {
   "cell_type": "code",
   "execution_count": 5,
   "id": "0ed62ab3",
   "metadata": {},
   "outputs": [],
   "source": [
    "name=\"yash\""
   ]
  },
  {
   "cell_type": "code",
   "execution_count": 6,
   "id": "63ca9983",
   "metadata": {},
   "outputs": [
    {
     "data": {
      "text/plain": [
       "'yash'"
      ]
     },
     "execution_count": 6,
     "metadata": {},
     "output_type": "execute_result"
    }
   ],
   "source": [
    "name.lower()"
   ]
  },
  {
   "cell_type": "code",
   "execution_count": 7,
   "id": "6a3a0fb5",
   "metadata": {},
   "outputs": [
    {
     "data": {
      "text/plain": [
       "'yash'"
      ]
     },
     "execution_count": 7,
     "metadata": {},
     "output_type": "execute_result"
    }
   ],
   "source": [
    "name"
   ]
  },
  {
   "cell_type": "code",
   "execution_count": 8,
   "id": "97c5fa57",
   "metadata": {},
   "outputs": [
    {
     "data": {
      "text/plain": [
       "'YASH'"
      ]
     },
     "execution_count": 8,
     "metadata": {},
     "output_type": "execute_result"
    }
   ],
   "source": [
    "name.upper()"
   ]
  },
  {
   "cell_type": "code",
   "execution_count": 9,
   "id": "27e3af40",
   "metadata": {},
   "outputs": [
    {
     "data": {
      "text/plain": [
       "4"
      ]
     },
     "execution_count": 9,
     "metadata": {},
     "output_type": "execute_result"
    }
   ],
   "source": [
    "len(name)"
   ]
  },
  {
   "cell_type": "code",
   "execution_count": 10,
   "id": "23b5cb17",
   "metadata": {},
   "outputs": [
    {
     "data": {
      "text/plain": [
       "'Yash'"
      ]
     },
     "execution_count": 10,
     "metadata": {},
     "output_type": "execute_result"
    }
   ],
   "source": [
    "name.capitalize()"
   ]
  },
  {
   "cell_type": "code",
   "execution_count": 11,
   "id": "330dbcc8",
   "metadata": {},
   "outputs": [
    {
     "data": {
      "text/plain": [
       "True"
      ]
     },
     "execution_count": 11,
     "metadata": {},
     "output_type": "execute_result"
    }
   ],
   "source": [
    "name.isalpha()"
   ]
  },
  {
   "cell_type": "code",
   "execution_count": 12,
   "id": "6bc35e6a",
   "metadata": {},
   "outputs": [],
   "source": [
    "starship = \"Enterprise\""
   ]
  },
  {
   "cell_type": "code",
   "execution_count": 13,
   "id": "4021a896",
   "metadata": {},
   "outputs": [
    {
     "data": {
      "text/plain": [
       "'Enterprise'"
      ]
     },
     "execution_count": 13,
     "metadata": {},
     "output_type": "execute_result"
    }
   ],
   "source": [
    "starship"
   ]
  },
  {
   "cell_type": "code",
   "execution_count": 14,
   "id": "d7e8d13a",
   "metadata": {},
   "outputs": [
    {
     "data": {
      "text/plain": [
       "False"
      ]
     },
     "execution_count": 14,
     "metadata": {},
     "output_type": "execute_result"
    }
   ],
   "source": [
    "starship.startswith(\"en\")"
   ]
  },
  {
   "cell_type": "code",
   "execution_count": 15,
   "id": "a2b83c63",
   "metadata": {},
   "outputs": [
    {
     "data": {
      "text/plain": [
       "True"
      ]
     },
     "execution_count": 15,
     "metadata": {},
     "output_type": "execute_result"
    }
   ],
   "source": [
    "starship.endswith(\"rise\")"
   ]
  },
  {
   "cell_type": "code",
   "execution_count": 16,
   "id": "97dbe995",
   "metadata": {},
   "outputs": [
    {
     "data": {
      "text/plain": [
       "'enterpreneur'"
      ]
     },
     "execution_count": 16,
     "metadata": {},
     "output_type": "execute_result"
    }
   ],
   "source": [
    "starship.replace(\"Enterprise\",\"enterpreneur\")"
   ]
  },
  {
   "cell_type": "code",
   "execution_count": 17,
   "id": "b77d62e3",
   "metadata": {},
   "outputs": [],
   "source": [
    "string = \"Welcome Sir \""
   ]
  },
  {
   "cell_type": "code",
   "execution_count": 18,
   "id": "9f4d6d4d",
   "metadata": {},
   "outputs": [
    {
     "name": "stdout",
     "output_type": "stream",
     "text": [
      "Welcome Sir \n"
     ]
    }
   ],
   "source": [
    "print(string)"
   ]
  },
  {
   "cell_type": "code",
   "execution_count": 19,
   "id": "aa3e000f",
   "metadata": {},
   "outputs": [
    {
     "name": "stdout",
     "output_type": "stream",
     "text": [
      "GoodBye Sir \n"
     ]
    }
   ],
   "source": [
    "print(string.replace(\"Welcome\",\"GoodBye\"))"
   ]
  },
  {
   "cell_type": "code",
   "execution_count": 20,
   "id": "387860dd",
   "metadata": {},
   "outputs": [],
   "source": [
    "txt = \"I like bananas\""
   ]
  },
  {
   "cell_type": "code",
   "execution_count": 21,
   "id": "8a17bc6b",
   "metadata": {},
   "outputs": [
    {
     "data": {
      "text/plain": [
       "'I like bananas'"
      ]
     },
     "execution_count": 21,
     "metadata": {},
     "output_type": "execute_result"
    }
   ],
   "source": [
    "txt"
   ]
  },
  {
   "cell_type": "code",
   "execution_count": 23,
   "id": "589fe9a6",
   "metadata": {},
   "outputs": [],
   "source": [
    "x = txt.replace(\"bananas\", \"apples\")"
   ]
  },
  {
   "cell_type": "code",
   "execution_count": 24,
   "id": "20d20bdf",
   "metadata": {},
   "outputs": [
    {
     "data": {
      "text/plain": [
       "'I like apples'"
      ]
     },
     "execution_count": 24,
     "metadata": {},
     "output_type": "execute_result"
    }
   ],
   "source": [
    "x"
   ]
  },
  {
   "cell_type": "code",
   "execution_count": 25,
   "id": "21b96eed",
   "metadata": {},
   "outputs": [
    {
     "name": "stdout",
     "output_type": "stream",
     "text": [
      "I like apples\n"
     ]
    }
   ],
   "source": [
    "\n",
    "print(x)"
   ]
  },
  {
   "cell_type": "code",
   "execution_count": 26,
   "id": "e7ef3e3e",
   "metadata": {},
   "outputs": [],
   "source": [
    "phrase = \"the surprise is in here somewhere\""
   ]
  },
  {
   "cell_type": "code",
   "execution_count": 28,
   "id": "e977052a",
   "metadata": {},
   "outputs": [
    {
     "data": {
      "text/plain": [
       "'the surprise is in here somewhere'"
      ]
     },
     "execution_count": 28,
     "metadata": {},
     "output_type": "execute_result"
    }
   ],
   "source": [
    "phrase"
   ]
  },
  {
   "cell_type": "code",
   "execution_count": 29,
   "id": "57fa538e",
   "metadata": {},
   "outputs": [
    {
     "data": {
      "text/plain": [
       "4"
      ]
     },
     "execution_count": 29,
     "metadata": {},
     "output_type": "execute_result"
    }
   ],
   "source": [
    "phrase.find(\"surprise\")"
   ]
  },
  {
   "cell_type": "code",
   "execution_count": 30,
   "id": "f5c6c7bb",
   "metadata": {},
   "outputs": [
    {
     "data": {
      "text/plain": [
       "19"
      ]
     },
     "execution_count": 30,
     "metadata": {},
     "output_type": "execute_result"
    }
   ],
   "source": [
    "phrase.find(\"here\")"
   ]
  },
  {
   "cell_type": "code",
   "execution_count": 31,
   "id": "ca8faa4e",
   "metadata": {},
   "outputs": [],
   "source": [
    "text = \"Hello World DataTrained\""
   ]
  },
  {
   "cell_type": "code",
   "execution_count": 32,
   "id": "ab94f6ac",
   "metadata": {},
   "outputs": [
    {
     "data": {
      "text/plain": [
       "'Hello World DataTrained'"
      ]
     },
     "execution_count": 32,
     "metadata": {},
     "output_type": "execute_result"
    }
   ],
   "source": [
    "text"
   ]
  },
  {
   "cell_type": "code",
   "execution_count": 33,
   "id": "f68e9bbf",
   "metadata": {},
   "outputs": [
    {
     "name": "stdout",
     "output_type": "stream",
     "text": [
      "['Hello', 'World', 'DataTrained']\n"
     ]
    }
   ],
   "source": [
    "print(text.split())\n",
    "\n"
   ]
  },
  {
   "cell_type": "code",
   "execution_count": 34,
   "id": "56dbfbb4",
   "metadata": {},
   "outputs": [],
   "source": [
    "\n",
    "text = \"Hello,World, DataTrained\""
   ]
  },
  {
   "cell_type": "code",
   "execution_count": 35,
   "id": "be50a4d3",
   "metadata": {},
   "outputs": [
    {
     "data": {
      "text/plain": [
       "'Hello,World, DataTrained'"
      ]
     },
     "execution_count": 35,
     "metadata": {},
     "output_type": "execute_result"
    }
   ],
   "source": [
    "text"
   ]
  },
  {
   "cell_type": "code",
   "execution_count": 36,
   "id": "05b28fc5",
   "metadata": {},
   "outputs": [
    {
     "name": "stdout",
     "output_type": "stream",
     "text": [
      "['Hello,World', 'DataTrained']\n"
     ]
    }
   ],
   "source": [
    "print(text.split(\", \"))"
   ]
  },
  {
   "cell_type": "code",
   "execution_count": 37,
   "id": "246a6d60",
   "metadata": {},
   "outputs": [],
   "source": [
    "text = \"Hello,World:, DataTrained\""
   ]
  },
  {
   "cell_type": "code",
   "execution_count": 38,
   "id": "2537de27",
   "metadata": {},
   "outputs": [
    {
     "data": {
      "text/plain": [
       "'Hello,World:, DataTrained'"
      ]
     },
     "execution_count": 38,
     "metadata": {},
     "output_type": "execute_result"
    }
   ],
   "source": [
    "text"
   ]
  },
  {
   "cell_type": "code",
   "execution_count": 39,
   "id": "51cd47a1",
   "metadata": {},
   "outputs": [
    {
     "name": "stdout",
     "output_type": "stream",
     "text": [
      "['Hello,World', ', DataTrained']\n"
     ]
    }
   ],
   "source": [
    "print(text.split(\":\"))"
   ]
  },
  {
   "cell_type": "code",
   "execution_count": 41,
   "id": "80beb1ce",
   "metadata": {},
   "outputs": [],
   "source": [
    "#Task:\n",
    "\n",
    "#1\n",
    "\n",
    "#Write a program that converts the following strings to lowercase:\n",
    "\n",
    "#\"Animals\", \"Badger\", \"Honey Bee\", \"Honey Badger\". Print each lowercase string on a separate line.\n",
    "\n"
   ]
  },
  {
   "cell_type": "code",
   "execution_count": 42,
   "id": "eb72bd34",
   "metadata": {},
   "outputs": [],
   "source": [
    "str1=[\"Animals\", \"Badger\", \"Honey Bee\", \"Honey Badger\"]"
   ]
  },
  {
   "cell_type": "code",
   "execution_count": 43,
   "id": "7c390643",
   "metadata": {},
   "outputs": [
    {
     "data": {
      "text/plain": [
       "['Animals', 'Badger', 'Honey Bee', 'Honey Badger']"
      ]
     },
     "execution_count": 43,
     "metadata": {},
     "output_type": "execute_result"
    }
   ],
   "source": [
    "str1"
   ]
  },
  {
   "cell_type": "code",
   "execution_count": 46,
   "id": "b851a4d9",
   "metadata": {},
   "outputs": [],
   "source": [
    "str2=\"Animals\""
   ]
  },
  {
   "cell_type": "code",
   "execution_count": 48,
   "id": "66d813b8",
   "metadata": {},
   "outputs": [
    {
     "name": "stdout",
     "output_type": "stream",
     "text": [
      "animals\n"
     ]
    }
   ],
   "source": [
    "print(str2.lower())"
   ]
  },
  {
   "cell_type": "code",
   "execution_count": 49,
   "id": "4f4f2961",
   "metadata": {},
   "outputs": [
    {
     "name": "stdout",
     "output_type": "stream",
     "text": [
      "honey bee\n"
     ]
    }
   ],
   "source": [
    "str3=\"Honey Bee\"\n",
    "print(str3.lower())"
   ]
  },
  {
   "cell_type": "code",
   "execution_count": 50,
   "id": "925fedc7",
   "metadata": {},
   "outputs": [
    {
     "name": "stdout",
     "output_type": "stream",
     "text": [
      "honey badger\n"
     ]
    }
   ],
   "source": [
    "str4=\"Honey Badger\"\n",
    "print(str4.lower())"
   ]
  },
  {
   "cell_type": "code",
   "execution_count": 51,
   "id": "c4305b54",
   "metadata": {},
   "outputs": [],
   "source": [
    "#2\n",
    "\n",
    "#Write a program that prints out the result of .startswith(\"be\") on\n",
    "\n",
    "#each of the following strings:\n",
    "\n",
    "#string1 = \"Becomes\"\n",
    "\n",
    "#string2 = \"becomes\"\n",
    "\n",
    "#string3 = \"BEAR\"\n",
    "\n",
    "#string4 = \" bEautiful\"\n"
   ]
  },
  {
   "cell_type": "code",
   "execution_count": 52,
   "id": "16944996",
   "metadata": {},
   "outputs": [],
   "source": [
    "string1 = \"Becomes\""
   ]
  },
  {
   "cell_type": "code",
   "execution_count": 53,
   "id": "5ca5bda1",
   "metadata": {},
   "outputs": [
    {
     "data": {
      "text/plain": [
       "False"
      ]
     },
     "execution_count": 53,
     "metadata": {},
     "output_type": "execute_result"
    }
   ],
   "source": [
    "string1.startswith(\"be\")"
   ]
  },
  {
   "cell_type": "code",
   "execution_count": 54,
   "id": "070f6be0",
   "metadata": {},
   "outputs": [],
   "source": [
    "string2 = \"becomes\""
   ]
  },
  {
   "cell_type": "code",
   "execution_count": 55,
   "id": "1c1a726e",
   "metadata": {},
   "outputs": [
    {
     "data": {
      "text/plain": [
       "True"
      ]
     },
     "execution_count": 55,
     "metadata": {},
     "output_type": "execute_result"
    }
   ],
   "source": [
    "string2.startswith(\"be\")"
   ]
  },
  {
   "cell_type": "code",
   "execution_count": 56,
   "id": "9855910c",
   "metadata": {},
   "outputs": [],
   "source": [
    "string3 = \"BEAR\""
   ]
  },
  {
   "cell_type": "code",
   "execution_count": 57,
   "id": "128f07ac",
   "metadata": {},
   "outputs": [
    {
     "data": {
      "text/plain": [
       "False"
      ]
     },
     "execution_count": 57,
     "metadata": {},
     "output_type": "execute_result"
    }
   ],
   "source": [
    "string3.startswith(\"be\")"
   ]
  },
  {
   "cell_type": "code",
   "execution_count": 58,
   "id": "8bfbf936",
   "metadata": {},
   "outputs": [],
   "source": [
    "string4 = \" bEautiful\""
   ]
  },
  {
   "cell_type": "code",
   "execution_count": 59,
   "id": "f9807802",
   "metadata": {},
   "outputs": [
    {
     "data": {
      "text/plain": [
       "False"
      ]
     },
     "execution_count": 59,
     "metadata": {},
     "output_type": "execute_result"
    }
   ],
   "source": [
    "string4.startswith(\"be\")"
   ]
  },
  {
   "cell_type": "code",
   "execution_count": 60,
   "id": "10b9952e",
   "metadata": {},
   "outputs": [],
   "source": [
    "#3\n",
    "\n",
    "#Using the same four strings from above, write a program that\n",
    "\n",
    "#uses string methods to alter each string so that .startswith(\"be\")\n",
    "\n",
    "#returns True for all of them\n"
   ]
  },
  {
   "cell_type": "code",
   "execution_count": 61,
   "id": "94dcc19b",
   "metadata": {},
   "outputs": [
    {
     "name": "stdout",
     "output_type": "stream",
     "text": [
      "True\n"
     ]
    }
   ],
   "source": [
    "string1 = \"Becomes\"\n",
    "y=string1.casefold()\n",
    "print(y.startswith(\"be\"))"
   ]
  },
  {
   "cell_type": "code",
   "execution_count": 62,
   "id": "5d538899",
   "metadata": {},
   "outputs": [
    {
     "data": {
      "text/plain": [
       "'becomes'"
      ]
     },
     "execution_count": 62,
     "metadata": {},
     "output_type": "execute_result"
    }
   ],
   "source": [
    "y"
   ]
  },
  {
   "cell_type": "code",
   "execution_count": 63,
   "id": "77eedb05",
   "metadata": {},
   "outputs": [
    {
     "name": "stdout",
     "output_type": "stream",
     "text": [
      "True\n"
     ]
    }
   ],
   "source": [
    "string3 = \"BEAR\"\n",
    "y=string3.casefold()\n",
    "print(y.startswith(\"be\"))"
   ]
  },
  {
   "cell_type": "code",
   "execution_count": 64,
   "id": "2026d178",
   "metadata": {},
   "outputs": [
    {
     "data": {
      "text/plain": [
       "'bear'"
      ]
     },
     "execution_count": 64,
     "metadata": {},
     "output_type": "execute_result"
    }
   ],
   "source": [
    "y"
   ]
  },
  {
   "cell_type": "code",
   "execution_count": 66,
   "id": "3f416464",
   "metadata": {},
   "outputs": [
    {
     "name": "stdout",
     "output_type": "stream",
     "text": [
      "False\n"
     ]
    }
   ],
   "source": []
  },
  {
   "cell_type": "code",
   "execution_count": 67,
   "id": "1072e52f",
   "metadata": {},
   "outputs": [],
   "source": [
    "#4 Write a program that takes input from the user and displays that\n",
    "\n",
    "#input back."
   ]
  },
  {
   "cell_type": "code",
   "execution_count": 68,
   "id": "1b14ad65",
   "metadata": {},
   "outputs": [
    {
     "name": "stdout",
     "output_type": "stream",
     "text": [
      "enter a string my name is yash\n"
     ]
    }
   ],
   "source": [
    "y=input(\"enter a string\")"
   ]
  },
  {
   "cell_type": "code",
   "execution_count": 69,
   "id": "0064b9bb",
   "metadata": {},
   "outputs": [],
   "source": [
    "#5\n",
    "\n",
    "#Write a program that takes input from the user and displays the\n",
    "\n",
    "#input in lowercase.\n"
   ]
  },
  {
   "cell_type": "code",
   "execution_count": null,
   "id": "6e351068",
   "metadata": {},
   "outputs": [],
   "source": []
  },
  {
   "cell_type": "code",
   "execution_count": null,
   "id": "8029b8b4",
   "metadata": {},
   "outputs": [],
   "source": []
  }
 ],
 "metadata": {
  "kernelspec": {
   "display_name": "Python 3 (ipykernel)",
   "language": "python",
   "name": "python3"
  },
  "language_info": {
   "codemirror_mode": {
    "name": "ipython",
    "version": 3
   },
   "file_extension": ".py",
   "mimetype": "text/x-python",
   "name": "python",
   "nbconvert_exporter": "python",
   "pygments_lexer": "ipython3",
   "version": "3.9.12"
  }
 },
 "nbformat": 4,
 "nbformat_minor": 5
}
