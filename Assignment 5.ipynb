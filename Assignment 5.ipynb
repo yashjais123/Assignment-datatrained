{
 "cells": [
  {
   "cell_type": "code",
   "execution_count": 2,
   "id": "32453328",
   "metadata": {},
   "outputs": [],
   "source": [
    "#Assignment 5\n",
    "#name= yash jaiswal\n",
    "#function"
   ]
  },
  {
   "cell_type": "code",
   "execution_count": 3,
   "id": "d9b89caf",
   "metadata": {},
   "outputs": [
    {
     "name": "stdout",
     "output_type": "stream",
     "text": [
      "The sum is 11\n"
     ]
    }
   ],
   "source": [
    "def add_numbers(x,y):\n",
    "   sum = x + y\n",
    "   return sum\n",
    "num1 = 5\n",
    "num2 = 6\n",
    "print(\"The sum is\", add_numbers(num1, num2))"
   ]
  },
  {
   "cell_type": "code",
   "execution_count": 9,
   "id": "950a17af",
   "metadata": {},
   "outputs": [
    {
     "name": "stdout",
     "output_type": "stream",
     "text": [
      "Hello Andrew, Good morning!\n"
     ]
    }
   ],
   "source": [
    "def greet(name, msg):\n",
    "    \"\"\"This function greets to\n",
    "    the person with the provided message\"\"\"\n",
    "    print(\"Hello\", name + ', ' + msg)\n",
    "greet(\"Andrew\", \"Good morning!\")"
   ]
  },
  {
   "cell_type": "code",
   "execution_count": 10,
   "id": "07d85fc3",
   "metadata": {},
   "outputs": [],
   "source": [
    "def greet(name, msg):\n",
    "    print(\"hello\",name + ', '+ msg)"
   ]
  },
  {
   "cell_type": "code",
   "execution_count": 11,
   "id": "90c9a3f3",
   "metadata": {},
   "outputs": [
    {
     "name": "stdout",
     "output_type": "stream",
     "text": [
      "hello yash,  good morning\n"
     ]
    }
   ],
   "source": [
    "greet(\"yash\",\" good morning\")"
   ]
  },
  {
   "cell_type": "code",
   "execution_count": 12,
   "id": "6055752e",
   "metadata": {},
   "outputs": [],
   "source": [
    "#Task:\n",
    "#Write a program to create a function that takes two arguments, name and age, and print their value."
   ]
  },
  {
   "cell_type": "code",
   "execution_count": 15,
   "id": "94915fe7",
   "metadata": {},
   "outputs": [],
   "source": [
    "def function(name,age):\n",
    "    print(f\"the function name{name} and age is {age}\")"
   ]
  },
  {
   "cell_type": "code",
   "execution_count": 16,
   "id": "9f57404a",
   "metadata": {},
   "outputs": [
    {
     "name": "stdout",
     "output_type": "stream",
     "text": [
      "the function nameyash and age is 21\n"
     ]
    }
   ],
   "source": [
    "function(\"yash\", 21)"
   ]
  },
  {
   "cell_type": "code",
   "execution_count": 17,
   "id": "96fa537b",
   "metadata": {},
   "outputs": [],
   "source": [
    "#ask : Write a function absolute_value to find absolute of a given number.\n",
    "#Soln.\n",
    "#def absolute_value(num):\n",
    "   # \"\"\"This function returns the absolute\n",
    "    #value of the entered number\"\"\"\n",
    "    #if num >= 0:\n",
    "        #return num\n",
    "    #else:\n",
    "     #   return -num\n",
    "#print(absolute_value(2))\n",
    "#print(absolute_value(-4))\n"
   ]
  },
  {
   "cell_type": "code",
   "execution_count": 18,
   "id": "982c3222",
   "metadata": {},
   "outputs": [
    {
     "name": "stdout",
     "output_type": "stream",
     "text": [
      "2\n",
      "4\n"
     ]
    }
   ],
   "source": [
    "def absolute_value(num):\n",
    "    \"\"\"This function returns the absolute\n",
    "    value of the entered number\"\"\"\n",
    "    if num >= 0:\n",
    "        return num\n",
    "    else:\n",
    "        return -num\n",
    "print(absolute_value(2))\n",
    "print(absolute_value(-4))\n"
   ]
  },
  {
   "cell_type": "code",
   "execution_count": 19,
   "id": "7ceb010a",
   "metadata": {},
   "outputs": [],
   "source": [
    "#Task : write a function multiply to calculate multiplication of two numbers by taking as a arguments.\n",
    "#Soln.\n",
    "#def multiply(x,y):\n",
    "# print\"value of x=\",x\n",
    " #print\"value of y=\",y\n",
    " #return x*y\n",
    "#print multiply(2,4)"
   ]
  },
  {
   "cell_type": "code",
   "execution_count": 25,
   "id": "95a94f74",
   "metadata": {},
   "outputs": [],
   "source": [
    "def multiply(num1,num2):\n",
    "    print (\"value ofx=\", num1)\n",
    "    print (\"value ofy=\", num2)\n",
    "    return num1 * num2"
   ]
  },
  {
   "cell_type": "code",
   "execution_count": 26,
   "id": "9ae67eb4",
   "metadata": {},
   "outputs": [
    {
     "name": "stdout",
     "output_type": "stream",
     "text": [
      "value ofx= 2\n",
      "value ofy= 4\n"
     ]
    },
    {
     "data": {
      "text/plain": [
       "8"
      ]
     },
     "execution_count": 26,
     "metadata": {},
     "output_type": "execute_result"
    }
   ],
   "source": [
    "multiply(2,4)"
   ]
  },
  {
   "cell_type": "code",
   "execution_count": 28,
   "id": "2a737681",
   "metadata": {},
   "outputs": [],
   "source": [
    "#Task : write a function division to calculate division of two numbers by taking as a arguments.\n",
    "# local variables and global variables\n",
    "#def my_func():\n",
    " #x = 10\n",
    " #print(\"Value inside function:\",x)\n",
    "#x = 20\n",
    "#my_func()\n",
    "#print(\"Value outside function:\",x)\n",
    "#squares = list(map(lambda x: x**2, range(10)))\n",
    "#squares = [x**2 for x in range(10)]"
   ]
  },
  {
   "cell_type": "code",
   "execution_count": 29,
   "id": "9be8f27d",
   "metadata": {},
   "outputs": [
    {
     "name": "stdout",
     "output_type": "stream",
     "text": [
      "Value inside function: 10\n",
      "Value outside function: 20\n"
     ]
    }
   ],
   "source": [
    "def my_func():\n",
    " x = 10\n",
    " print(\"Value inside function:\",x)\n",
    "x = 20\n",
    "my_func()\n",
    "print(\"Value outside function:\",x)\n",
    "squares = list(map(lambda x: x**2, range(10)))\n",
    "squares = [x**2 for x in range(10)]"
   ]
  },
  {
   "cell_type": "code",
   "execution_count": 30,
   "id": "81f3499f",
   "metadata": {},
   "outputs": [],
   "source": [
    "#Task : Write the above code to find cube of x.\n",
    "#sequences = [10,2,8,7,5,4,3,11,0, 1]\n",
    "#filtered_result = map (lambda x: x*x, sequences)\n",
    "#print(list(filtered_result))"
   ]
  },
  {
   "cell_type": "code",
   "execution_count": 31,
   "id": "961c8c24",
   "metadata": {},
   "outputs": [
    {
     "name": "stdout",
     "output_type": "stream",
     "text": [
      "[100, 4, 64, 49, 25, 16, 9, 121, 0, 1]\n"
     ]
    }
   ],
   "source": [
    "sequences = [10,2,8,7,5,4,3,11,0, 1]\n",
    "filtered_result = map (lambda x: x*x, sequences)\n",
    "print(list(filtered_result))"
   ]
  },
  {
   "cell_type": "code",
   "execution_count": 32,
   "id": "41d8a724",
   "metadata": {},
   "outputs": [],
   "source": [
    "#Task : write the above code for the expression x**3\n",
    "#sequences = [10,2,8,7,5,4,3,11,0, 1]\n",
    "#filtered_result = filter (lambda x: x > 4, sequences)\n",
    "#print(list(filtered_result))\n"
   ]
  },
  {
   "cell_type": "code",
   "execution_count": 33,
   "id": "6e55b770",
   "metadata": {},
   "outputs": [
    {
     "name": "stdout",
     "output_type": "stream",
     "text": [
      "[10, 8, 7, 5, 11]\n"
     ]
    }
   ],
   "source": [
    "sequences = [10,2,8,7,5,4,3,11,0, 1]\n",
    "filtered_result = filter (lambda x: x > 4, sequences)\n",
    "print(list(filtered_result))\n"
   ]
  },
  {
   "cell_type": "code",
   "execution_count": 34,
   "id": "c9518e0c",
   "metadata": {},
   "outputs": [],
   "source": [
    "#Task : write the above code for the expression x>5.\n",
    "#squares = []\n",
    "#for x in range(10):\n",
    "#... squares.append(x**2)\n",
    "#print(squares)\n"
   ]
  },
  {
   "cell_type": "code",
   "execution_count": 41,
   "id": "9a2cea63",
   "metadata": {},
   "outputs": [
    {
     "name": "stdout",
     "output_type": "stream",
     "text": [
      "[0, 1, 4, 9, 16, 25, 36, 49, 64, 81]\n"
     ]
    }
   ],
   "source": [
    "squares = []\n",
    "for x in range(10):\n",
    "    squares.append(x**2)\n",
    "print(squares)"
   ]
  },
  {
   "cell_type": "code",
   "execution_count": 42,
   "id": "ff08a1a7",
   "metadata": {},
   "outputs": [],
   "source": [
    "#Task :\n",
    "#1. Put the above 4 lines in as user defined function and call the function\n",
    "#2.Given two integer numbers return their product only if the product is equal to or lower than 1000, else return their sum.\n",
    "#HINT:\n",
    "#Create a function that will take two numbers as parameters\n",
    "#Next, Inside a function, multiply two numbers and save their product in a product variable\n",
    "#Next, use the if condition to check if the product >1000. If yes, return the product\n",
    "#Otherwise, use the else block to calculate the sum of two numbers and return it."
   ]
  },
  {
   "cell_type": "code",
   "execution_count": 43,
   "id": "7a6154ca",
   "metadata": {},
   "outputs": [],
   "source": [
    "def multiplication_or_sum(num1, num2):\n",
    "    product = num1 * num2\n",
    "    if product <= 1000:\n",
    "        return product\n",
    "    else:\n",
    "        return num1 + num2"
   ]
  },
  {
   "cell_type": "code",
   "execution_count": 45,
   "id": "2f0dad82",
   "metadata": {},
   "outputs": [
    {
     "name": "stdout",
     "output_type": "stream",
     "text": [
      "The result is 600\n"
     ]
    }
   ],
   "source": [
    "result = multiplication_or_sum(20, 30)\n",
    "print(\"The result is\", result)"
   ]
  },
  {
   "cell_type": "code",
   "execution_count": 46,
   "id": "7e382793",
   "metadata": {},
   "outputs": [
    {
     "name": "stdout",
     "output_type": "stream",
     "text": [
      "The result is 70\n"
     ]
    }
   ],
   "source": [
    "result = multiplication_or_sum(40, 30)\n",
    "print(\"The result is\", result)"
   ]
  },
  {
   "cell_type": "code",
   "execution_count": 47,
   "id": "bcb414d9",
   "metadata": {},
   "outputs": [],
   "source": [
    "#3 .\n",
    "#Task: Check if the first and last number of a list is the same.\n",
    "#Write a function to return True if the first and last number of a given list is same. \n",
    "#If numbers are different then return False.\n"
   ]
  },
  {
   "cell_type": "code",
   "execution_count": 48,
   "id": "f6f331a8",
   "metadata": {},
   "outputs": [
    {
     "name": "stdout",
     "output_type": "stream",
     "text": [
      "Given list: [10, 20, 30, 40, 10]\n",
      "result is True\n",
      "Given list: [75, 65, 35, 75, 30]\n",
      "result is False\n"
     ]
    }
   ],
   "source": [
    "def first_last_same(numberList):\n",
    "    print(\"Given list:\", numberList)\n",
    "    first_num = numberList[0]\n",
    "    last_num = numberList[-1]\n",
    "    if first_num == last_num:\n",
    "        return True\n",
    "    else:\n",
    "        return False\n",
    "numbers_x = [10, 20, 30, 40, 10]\n",
    "print(\"result is\", first_last_same(numbers_x))\n",
    "numbers_y = [75, 65, 35, 75, 30]\n",
    "print(\"result is\", first_last_same(numbers_y))\n"
   ]
  },
  {
   "cell_type": "code",
   "execution_count": null,
   "id": "934c5f40",
   "metadata": {},
   "outputs": [],
   "source": []
  }
 ],
 "metadata": {
  "kernelspec": {
   "display_name": "Python 3 (ipykernel)",
   "language": "python",
   "name": "python3"
  },
  "language_info": {
   "codemirror_mode": {
    "name": "ipython",
    "version": 3
   },
   "file_extension": ".py",
   "mimetype": "text/x-python",
   "name": "python",
   "nbconvert_exporter": "python",
   "pygments_lexer": "ipython3",
   "version": "3.9.12"
  }
 },
 "nbformat": 4,
 "nbformat_minor": 5
}
